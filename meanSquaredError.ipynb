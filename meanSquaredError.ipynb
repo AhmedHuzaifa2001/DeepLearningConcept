{
 "cells": [
  {
   "cell_type": "code",
   "execution_count": 3,
   "id": "29163e6b",
   "metadata": {},
   "outputs": [],
   "source": [
    "import numpy as np\n",
    "import math\n",
    "y_predicted = np.array([1,1,0,0,1])\n",
    "y_true = np.array([0.3,0.7,1,0,0.5])"
   ]
  },
  {
   "cell_type": "code",
   "execution_count": 4,
   "id": "404f1bbe",
   "metadata": {},
   "outputs": [],
   "source": [
    "def mse(y_true,y_predicted):\n",
    "    tot_error = 0\n",
    "    for yt , yp in zip(y_true , y_predicted):\n",
    "        tot_error += abs(math.pow((yt-yp),2)) \n",
    "    print(\"total Error:\" , tot_error)\n",
    "    mse = tot_error/len(y_true)\n",
    "    print(\"Mean Squared Error:\" , mse)"
   ]
  },
  {
   "cell_type": "code",
   "execution_count": 5,
   "id": "47078028",
   "metadata": {},
   "outputs": [
    {
     "name": "stdout",
     "output_type": "stream",
     "text": [
      "total Error: 1.83\n",
      "Mean Squared Error: 0.366\n"
     ]
    }
   ],
   "source": [
    "mse(y_true,y_predicted)"
   ]
  },
  {
   "cell_type": "code",
   "execution_count": 13,
   "id": "f23deec8",
   "metadata": {},
   "outputs": [
    {
     "data": {
      "text/plain": [
       "np.float64(0.366)"
      ]
     },
     "execution_count": 13,
     "metadata": {},
     "output_type": "execute_result"
    }
   ],
   "source": [
    "squaredDifference = np.power((y_predicted-y_true),2)\n",
    "squaredDifference\n",
    "meanSquaredError = np.mean(squaredDifference)\n",
    "meanSquaredError"
   ]
  }
 ],
 "metadata": {
  "kernelspec": {
   "display_name": "Python 3",
   "language": "python",
   "name": "python3"
  },
  "language_info": {
   "codemirror_mode": {
    "name": "ipython",
    "version": 3
   },
   "file_extension": ".py",
   "mimetype": "text/x-python",
   "name": "python",
   "nbconvert_exporter": "python",
   "pygments_lexer": "ipython3",
   "version": "3.12.0"
  }
 },
 "nbformat": 4,
 "nbformat_minor": 5
}
